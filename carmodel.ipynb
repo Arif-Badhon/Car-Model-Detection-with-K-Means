{
 "cells": [
  {
   "cell_type": "markdown",
   "metadata": {},
   "source": [
    "## This notebook will discuss the K Means algorithm in Machine Learning"
   ]
  },
  {
   "cell_type": "code",
   "execution_count": 12,
   "metadata": {},
   "outputs": [],
   "source": [
    "import pandas as pd\n",
    "import numpy as np\n",
    "import matplotlib.pyplot as plt\n",
    "\n",
    "%matplotlib inline"
   ]
  },
  {
   "cell_type": "code",
   "execution_count": 13,
   "metadata": {},
   "outputs": [
    {
     "name": "stdout",
     "output_type": "stream",
     "text": [
      "Path to dataset files: /home/arifuz/.cache/kagglehub/datasets/abineshkumark/carsdata/versions/1\n"
     ]
    }
   ],
   "source": [
    "# Dataset\n",
    "\n",
    "import kagglehub\n",
    "\n",
    "# Download latest version\n",
    "path = kagglehub.dataset_download(\"abineshkumark/carsdata\")\n",
    "\n",
    "print(\"Path to dataset files:\", path)"
   ]
  },
  {
   "cell_type": "code",
   "execution_count": 14,
   "metadata": {},
   "outputs": [
    {
     "data": {
      "text/html": [
       "<div>\n",
       "<style scoped>\n",
       "    .dataframe tbody tr th:only-of-type {\n",
       "        vertical-align: middle;\n",
       "    }\n",
       "\n",
       "    .dataframe tbody tr th {\n",
       "        vertical-align: top;\n",
       "    }\n",
       "\n",
       "    .dataframe thead th {\n",
       "        text-align: right;\n",
       "    }\n",
       "</style>\n",
       "<table border=\"1\" class=\"dataframe\">\n",
       "  <thead>\n",
       "    <tr style=\"text-align: right;\">\n",
       "      <th></th>\n",
       "      <th>mpg</th>\n",
       "      <th>cylinders</th>\n",
       "      <th>cubicinches</th>\n",
       "      <th>hp</th>\n",
       "      <th>weightlbs</th>\n",
       "      <th>time-to-60</th>\n",
       "      <th>year</th>\n",
       "      <th>brand</th>\n",
       "    </tr>\n",
       "  </thead>\n",
       "  <tbody>\n",
       "    <tr>\n",
       "      <th>0</th>\n",
       "      <td>14.0</td>\n",
       "      <td>8</td>\n",
       "      <td>350</td>\n",
       "      <td>165</td>\n",
       "      <td>4209</td>\n",
       "      <td>12</td>\n",
       "      <td>1972</td>\n",
       "      <td>US.</td>\n",
       "    </tr>\n",
       "    <tr>\n",
       "      <th>1</th>\n",
       "      <td>31.9</td>\n",
       "      <td>4</td>\n",
       "      <td>89</td>\n",
       "      <td>71</td>\n",
       "      <td>1925</td>\n",
       "      <td>14</td>\n",
       "      <td>1980</td>\n",
       "      <td>Europe.</td>\n",
       "    </tr>\n",
       "    <tr>\n",
       "      <th>2</th>\n",
       "      <td>17.0</td>\n",
       "      <td>8</td>\n",
       "      <td>302</td>\n",
       "      <td>140</td>\n",
       "      <td>3449</td>\n",
       "      <td>11</td>\n",
       "      <td>1971</td>\n",
       "      <td>US.</td>\n",
       "    </tr>\n",
       "    <tr>\n",
       "      <th>3</th>\n",
       "      <td>15.0</td>\n",
       "      <td>8</td>\n",
       "      <td>400</td>\n",
       "      <td>150</td>\n",
       "      <td>3761</td>\n",
       "      <td>10</td>\n",
       "      <td>1971</td>\n",
       "      <td>US.</td>\n",
       "    </tr>\n",
       "    <tr>\n",
       "      <th>4</th>\n",
       "      <td>30.5</td>\n",
       "      <td>4</td>\n",
       "      <td>98</td>\n",
       "      <td>63</td>\n",
       "      <td>2051</td>\n",
       "      <td>17</td>\n",
       "      <td>1978</td>\n",
       "      <td>US.</td>\n",
       "    </tr>\n",
       "  </tbody>\n",
       "</table>\n",
       "</div>"
      ],
      "text/plain": [
       "    mpg   cylinders  cubicinches   hp  weightlbs   time-to-60   year     brand\n",
       "0  14.0           8          350  165       4209           12   1972       US.\n",
       "1  31.9           4           89   71       1925           14   1980   Europe.\n",
       "2  17.0           8          302  140       3449           11   1971       US.\n",
       "3  15.0           8          400  150       3761           10   1971       US.\n",
       "4  30.5           4           98   63       2051           17   1978       US."
      ]
     },
     "execution_count": 14,
     "metadata": {},
     "output_type": "execute_result"
    }
   ],
   "source": [
    "dataset = pd.read_csv(path + '/cars.csv')\n",
    "dataset.head()"
   ]
  },
  {
   "cell_type": "code",
   "execution_count": 15,
   "metadata": {},
   "outputs": [
    {
     "data": {
      "text/plain": [
       "mpg             float64\n",
       " cylinders        int64\n",
       " cubicinches     object\n",
       " hp               int64\n",
       " weightlbs       object\n",
       " time-to-60       int64\n",
       " year             int64\n",
       "dtype: object"
      ]
     },
     "execution_count": 15,
     "metadata": {},
     "output_type": "execute_result"
    }
   ],
   "source": [
    "x = dataset[dataset.columns[:-1]]\n",
    "#x['cylinders'] = x['cylinders'].apply(pd.to_numeric, axis=0)\n",
    "x.dtypes\n"
   ]
  },
  {
   "cell_type": "code",
   "execution_count": 16,
   "metadata": {},
   "outputs": [
    {
     "data": {
      "text/plain": [
       "mpg             float64\n",
       " cylinders        int64\n",
       " cubicinches     object\n",
       " hp               int64\n",
       " weightlbs       object\n",
       " time-to-60       int64\n",
       " year             int64\n",
       "dtype: object"
      ]
     },
     "execution_count": 16,
     "metadata": {},
     "output_type": "execute_result"
    }
   ],
   "source": [
    "# eliminate null value\n",
    "\n",
    "x = x.apply(lambda col: col.fillna(col.mean()) if col.dtype.kind in 'iufc' else col)\n",
    "x.dtypes\n",
    "#x.head()"
   ]
  },
  {
   "cell_type": "code",
   "execution_count": 17,
   "metadata": {},
   "outputs": [
    {
     "name": "stdout",
     "output_type": "stream",
     "text": [
      "0\n",
      "0\n",
      "0\n",
      "0\n",
      "0\n",
      "0\n",
      "0\n"
     ]
    }
   ],
   "source": [
    "for i in x.columns:\n",
    "    print(x[i].isnull().sum())"
   ]
  },
  {
   "cell_type": "code",
   "execution_count": 18,
   "metadata": {},
   "outputs": [
    {
     "name": "stdout",
     "output_type": "stream",
     "text": [
      "Column ' cubicinches' has 2 invalid numeric values.\n",
      "  Invalid entries: [' ']\n",
      "Column ' weightlbs' has 3 invalid numeric values.\n",
      "  Invalid entries: [' ']\n"
     ]
    }
   ],
   "source": [
    "#Checking if all the column value is numeric\n",
    "for col in x.columns:\n",
    "    # Attempt to convert each column to numeric (coerce errors to NaN)\n",
    "    try_numeric = pd.to_numeric(x[col], errors='coerce')\n",
    "    \n",
    "    # Check how many values became NaN (meaning they were not valid numbers)\n",
    "    num_na = try_numeric.isna().sum()\n",
    "    \n",
    "    if num_na > 0:\n",
    "        print(f\"Column '{col}' has {num_na} invalid numeric values.\")\n",
    "        # Optionally inspect some of these invalid values\n",
    "        invalid_vals = x.loc[try_numeric.isna(), col].unique()\n",
    "        print(f\"  Invalid entries: {invalid_vals[:10]}\")  # Show up to 10 unique invalid entries\n"
   ]
  },
  {
   "cell_type": "code",
   "execution_count": 19,
   "metadata": {},
   "outputs": [],
   "source": [
    "#Converting the problemetic columns\n",
    "for col in x.columns:\n",
    "    if x[col].dtype == 'object' or x[col].dtype == 'string':\n",
    "        x[col] = pd.to_numeric(x[col], errors='coerce')\n",
    "\n",
    "# Now fill new NaN values (from invalid floats) with, for example, the column mean:\n",
    "x = x.fillna(x.mean())"
   ]
  },
  {
   "cell_type": "code",
   "execution_count": 20,
   "metadata": {},
   "outputs": [
    {
     "name": "stdout",
     "output_type": "stream",
     "text": [
      "mpg             float64\n",
      " cylinders        int64\n",
      " cubicinches    float64\n",
      " hp               int64\n",
      " weightlbs      float64\n",
      " time-to-60       int64\n",
      " year             int64\n",
      "dtype: object\n"
     ]
    }
   ],
   "source": [
    "print(x.dtypes)"
   ]
  },
  {
   "cell_type": "code",
   "execution_count": 21,
   "metadata": {},
   "outputs": [
    {
     "data": {
      "image/png": "[encoded data removed]",
      "text/plain": [
       "<Figure size 640x480 with 1 Axes>"
      ]
     },
     "metadata": {},
     "output_type": "display_data"
    }
   ],
   "source": [
    "# Elbow method to get the kmeans\n",
    "from sklearn.cluster import KMeans\n",
    "\n",
    "wcss = []\n",
    "\n",
    "for i in range (1, 11):\n",
    "    kmeans = KMeans(n_clusters=i, init='k-means++', max_iter=300, n_init=10, random_state=0)\n",
    "    kmeans.fit(x)\n",
    "    wcss.append(kmeans.inertia_)\n",
    "\n",
    "\n",
    "plt.plot(range(1, 11), wcss)\n",
    "plt.title('KMeans Elbow method')\n",
    "plt.xlabel('Number')\n",
    "plt.ylabel('WCSS')\n",
    "plt.show()\n"
   ]
  }
 ],
 "metadata": {
  "kernelspec": {
   "display_name": ".venv",
   "language": "python",
   "name": "python3"
  },
  "language_info": {
   "codemirror_mode": {
    "name": "ipython",
    "version": 3
   },
   "file_extension": ".py",
   "mimetype": "text/x-python",
   "name": "python",
   "nbconvert_exporter": "python",
   "pygments_lexer": "ipython3",
   "version": "3.12.3"
  }
 },
 "nbformat": 4,
 "nbformat_minor": 2
}
